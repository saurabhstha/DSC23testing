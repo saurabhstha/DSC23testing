{
 "cells": [
  {
   "cell_type": "code",
   "execution_count": 77,
   "metadata": {},
   "outputs": [
    {
     "data": {
      "text/plain": [
       "'\\n    Name: Saurabh Shrestha\\n    Project: Final project\\n    Class: DSC 530\\n    Date: June 5, 2021\\n    Dataset Name: Olympic\\n    Dataset Description: The dataset used has a list of all the medal winners in the Summer Olympics \\n                        from 1976 Montreal to 2008 Beijing. It includes each and every medal awarded within the period.\\n    \\n'"
      ]
     },
     "execution_count": 77,
     "metadata": {},
     "output_type": "execute_result"
    }
   ],
   "source": [
    "\"\"\"\n",
    "    Name: Saurabh Shrestha\n",
    "    Project: Final project\n",
    "    Class: DSC 530\n",
    "    Date: June 5, 2021\n",
    "    Dataset Name: Olympic\n",
    "    Dataset Description: The dataset used  a list of all the medal winners in the Summer Olympics \n",
    "    from 1976 Montreal to 2008 Beijing. It includes each and every medal awarded within the period.\n",
    "    \n",
    "\"\"\""
   ]
  },
  {
   "cell_type": "code",
   "execution_count": 78,
   "metadata": {},
   "outputs": [],
   "source": [
    "# importing necessary packages for the project\n",
    "import pandas as pd\n",
    "import matplotlib\n",
    "import thinkplot\n",
    "import numpy as np\n",
    "import thinkstats2\n",
    "import random"
   ]
  },
  {
   "cell_type": "code",
   "execution_count": 79,
   "metadata": {},
   "outputs": [],
   "source": [
    "# reading excel file\n",
    "olympic_data = pd.read_excel(\"C:/Users/Saurabh/Desktop/Olympic.xlsx\")"
   ]
  },
  {
   "cell_type": "code",
   "execution_count": 80,
   "metadata": {},
   "outputs": [
    {
     "data": {
      "text/plain": [
       "<bound method NDFrame.describe of            City    Year      Sport       Discipline           Event  \\\n",
       "0      Montreal  1976.0   Aquatics           Diving  3m springboard   \n",
       "1      Montreal  1976.0   Aquatics           Diving  3m springboard   \n",
       "2      Montreal  1976.0   Aquatics           Diving  3m springboard   \n",
       "3      Montreal  1976.0   Aquatics           Diving  3m springboard   \n",
       "4      Montreal  1976.0   Aquatics           Diving    10m platform   \n",
       "...         ...     ...        ...              ...             ...   \n",
       "15428   Beijing  2008.0  Wrestling  Wrestling Gre-R       66 - 74kg   \n",
       "15429   Beijing  2008.0  Wrestling  Wrestling Gre-R       66 - 74kg   \n",
       "15430   Beijing  2008.0  Wrestling  Wrestling Gre-R       55 - 60kg   \n",
       "15431   Beijing  2008.0  Wrestling  Wrestling Gre-R       60 - 66kg   \n",
       "15432   Beijing  2008.0  Wrestling  Wrestling Gre-R      96 - 120kg   \n",
       "\n",
       "                        Athlete Gender Country_Code        Country  \\\n",
       "0               KÖHLER, Christa  Women          GDR   East Germany   \n",
       "1           KOSENKOV, Aleksandr    Men          URS   Soviet Union   \n",
       "2          BOGGS, Philip George    Men          USA  United States   \n",
       "3      CAGNOTTO, Giorgio Franco    Men          ITA          Italy   \n",
       "4        WILSON, Deborah Keplar  Women          USA  United States   \n",
       "...                         ...    ...          ...            ...   \n",
       "15428        GUENOT, Christophe    Men          FRA         France   \n",
       "15429       KVIRKELIA, Manuchar    Men          GEO        Georgia   \n",
       "15430          RAHIMOV, Vitaliy    Men          AZE     Azerbaijan   \n",
       "15431            GUENOT, Steeve    Men          FRA         France   \n",
       "15432             LOPEZ, Mijain    Men          CUB           Cuba   \n",
       "\n",
       "      Event_gender   Medal  \n",
       "0                W  Silver  \n",
       "1                M  Bronze  \n",
       "2                M    Gold  \n",
       "3                M  Silver  \n",
       "4                W  Bronze  \n",
       "...            ...     ...  \n",
       "15428            M  Bronze  \n",
       "15429            M    Gold  \n",
       "15430            M  Silver  \n",
       "15431            M    Gold  \n",
       "15432            M    Gold  \n",
       "\n",
       "[15433 rows x 11 columns]>"
      ]
     },
     "execution_count": 80,
     "metadata": {},
     "output_type": "execute_result"
    }
   ],
   "source": [
    "olympic_data.describe"
   ]
  },
  {
   "cell_type": "code",
   "execution_count": 81,
   "metadata": {},
   "outputs": [
    {
     "data": {
      "text/html": [
       "<div>\n",
       "<style scoped>\n",
       "    .dataframe tbody tr th:only-of-type {\n",
       "        vertical-align: middle;\n",
       "    }\n",
       "\n",
       "    .dataframe tbody tr th {\n",
       "        vertical-align: top;\n",
       "    }\n",
       "\n",
       "    .dataframe thead th {\n",
       "        text-align: right;\n",
       "    }\n",
       "</style>\n",
       "<table border=\"1\" class=\"dataframe\">\n",
       "  <thead>\n",
       "    <tr style=\"text-align: right;\">\n",
       "      <th></th>\n",
       "      <th>City</th>\n",
       "      <th>Year</th>\n",
       "      <th>Sport</th>\n",
       "      <th>Discipline</th>\n",
       "      <th>Event</th>\n",
       "      <th>Athlete</th>\n",
       "      <th>Gender</th>\n",
       "      <th>Country_Code</th>\n",
       "      <th>Country</th>\n",
       "      <th>Event_gender</th>\n",
       "      <th>Medal</th>\n",
       "    </tr>\n",
       "  </thead>\n",
       "  <tbody>\n",
       "    <tr>\n",
       "      <th>15283</th>\n",
       "      <td>Beijing</td>\n",
       "      <td>2008.0</td>\n",
       "      <td>Volleyball</td>\n",
       "      <td>Volleyball</td>\n",
       "      <td>volleyball</td>\n",
       "      <td>PRIDDY, William</td>\n",
       "      <td>Men</td>\n",
       "      <td>USA</td>\n",
       "      <td>United States</td>\n",
       "      <td>M</td>\n",
       "      <td>Gold</td>\n",
       "    </tr>\n",
       "    <tr>\n",
       "      <th>15292</th>\n",
       "      <td>Beijing</td>\n",
       "      <td>2008.0</td>\n",
       "      <td>Volleyball</td>\n",
       "      <td>Volleyball</td>\n",
       "      <td>volleyball</td>\n",
       "      <td>ROONEY, Sean</td>\n",
       "      <td>Men</td>\n",
       "      <td>USA</td>\n",
       "      <td>United States</td>\n",
       "      <td>M</td>\n",
       "      <td>Gold</td>\n",
       "    </tr>\n",
       "    <tr>\n",
       "      <th>15306</th>\n",
       "      <td>Beijing</td>\n",
       "      <td>2008.0</td>\n",
       "      <td>Volleyball</td>\n",
       "      <td>Volleyball</td>\n",
       "      <td>volleyball</td>\n",
       "      <td>STANLEY, Clayton</td>\n",
       "      <td>Men</td>\n",
       "      <td>USA</td>\n",
       "      <td>United States</td>\n",
       "      <td>M</td>\n",
       "      <td>Gold</td>\n",
       "    </tr>\n",
       "    <tr>\n",
       "      <th>15308</th>\n",
       "      <td>Beijing</td>\n",
       "      <td>2008.0</td>\n",
       "      <td>Volleyball</td>\n",
       "      <td>Volleyball</td>\n",
       "      <td>volleyball</td>\n",
       "      <td>HANSEN, Kevin</td>\n",
       "      <td>Men</td>\n",
       "      <td>USA</td>\n",
       "      <td>United States</td>\n",
       "      <td>M</td>\n",
       "      <td>Gold</td>\n",
       "    </tr>\n",
       "    <tr>\n",
       "      <th>15314</th>\n",
       "      <td>Beijing</td>\n",
       "      <td>2008.0</td>\n",
       "      <td>Volleyball</td>\n",
       "      <td>Volleyball</td>\n",
       "      <td>volleyball</td>\n",
       "      <td>SALMON, Riley</td>\n",
       "      <td>Men</td>\n",
       "      <td>USA</td>\n",
       "      <td>United States</td>\n",
       "      <td>M</td>\n",
       "      <td>Gold</td>\n",
       "    </tr>\n",
       "    <tr>\n",
       "      <th>15380</th>\n",
       "      <td>Beijing</td>\n",
       "      <td>2008.0</td>\n",
       "      <td>Wrestling</td>\n",
       "      <td>Wrestling Free.</td>\n",
       "      <td>- 55kg</td>\n",
       "      <td>CEJUDO, Henry</td>\n",
       "      <td>Men</td>\n",
       "      <td>USA</td>\n",
       "      <td>United States</td>\n",
       "      <td>M</td>\n",
       "      <td>Gold</td>\n",
       "    </tr>\n",
       "  </tbody>\n",
       "</table>\n",
       "</div>"
      ],
      "text/plain": [
       "          City    Year       Sport       Discipline       Event  \\\n",
       "15283  Beijing  2008.0  Volleyball       Volleyball  volleyball   \n",
       "15292  Beijing  2008.0  Volleyball       Volleyball  volleyball   \n",
       "15306  Beijing  2008.0  Volleyball       Volleyball  volleyball   \n",
       "15308  Beijing  2008.0  Volleyball       Volleyball  volleyball   \n",
       "15314  Beijing  2008.0  Volleyball       Volleyball  volleyball   \n",
       "15380  Beijing  2008.0   Wrestling  Wrestling Free.      - 55kg   \n",
       "\n",
       "                Athlete Gender Country_Code        Country Event_gender Medal  \n",
       "15283   PRIDDY, William    Men          USA  United States            M  Gold  \n",
       "15292      ROONEY, Sean    Men          USA  United States            M  Gold  \n",
       "15306  STANLEY, Clayton    Men          USA  United States            M  Gold  \n",
       "15308     HANSEN, Kevin    Men          USA  United States            M  Gold  \n",
       "15314     SALMON, Riley    Men          USA  United States            M  Gold  \n",
       "15380     CEJUDO, Henry    Men          USA  United States            M  Gold  "
      ]
     },
     "execution_count": 81,
     "metadata": {},
     "output_type": "execute_result"
    }
   ],
   "source": [
    "usa_gold = ['Gold', 'United States']\n",
    "filter_gold = olympic_data[(olympic_data['Medal'].isin(usa_gold)) & (olympic_data['Country'].isin(usa_gold)) ]\n",
    "filter_gold.tail(6)"
   ]
  },
  {
   "cell_type": "code",
   "execution_count": 82,
   "metadata": {},
   "outputs": [
    {
     "data": {
      "text/plain": [
       "<AxesSubplot:ylabel='Frequency'>"
      ]
     },
     "execution_count": 82,
     "metadata": {},
     "output_type": "execute_result"
    },
    {
     "data": {
      "image/png": "[encoded data removed]",
      "text/plain": [
       "<Figure size 432x288 with 1 Axes>"
      ]
     },
     "metadata": {
      "needs_background": "light"
     },
     "output_type": "display_data"
    }
   ],
   "source": [
    "filter_gold.plot.hist()"
   ]
  },
  {
   "cell_type": "code",
   "execution_count": null,
   "metadata": {},
   "outputs": [],
   "source": []
  },
  {
   "cell_type": "code",
   "execution_count": 138,
   "metadata": {},
   "outputs": [
    {
     "data": {
      "text/plain": [
       "<AxesSubplot:ylabel='Frequency'>"
      ]
     },
     "execution_count": 138,
     "metadata": {},
     "output_type": "execute_result"
    },
    {
     "data": {
      "image/png": "[encoded data removed]",
      "text/plain": [
       "<Figure size 432x288 with 1 Axes>"
      ]
     },
     "metadata": {
      "needs_background": "light"
     },
     "output_type": "display_data"
    }
   ],
   "source": [
    "# USA gold in Football \n",
    "usa_football = ['Football', 'United States', 'Gold']\n",
    "filter_football = olympic_data[(olympic_data['Discipline'].isin(usa_football)) & (olympic_data['Country'].isin(usa_football)) & \n",
    "                           (olympic_data['Medal'].isin(usa_football)) ]\n",
    "filter_football.plot.hist()\n",
    "# Seems like no gold for United states in Football category from 1998 till 2002 summer olympic from either Men or Women"
   ]
  },
  {
   "cell_type": "code",
   "execution_count": 140,
   "metadata": {},
   "outputs": [
    {
     "data": {
      "text/plain": [
       "<AxesSubplot:ylabel='Frequency'>"
      ]
     },
     "execution_count": 140,
     "metadata": {},
     "output_type": "execute_result"
    },
    {
     "data": {
      "image/png": "[encoded data removed]",
      "text/plain": [
       "<Figure size 432x288 with 1 Axes>"
      ]
     },
     "metadata": {
      "needs_background": "light"
     },
     "output_type": "display_data"
    }
   ],
   "source": [
    "# histogram of \n",
    "china_gold = ['Gold', 'China']\n",
    "filter_china = olympic_data[(olympic_data['Medal'].isin(china_gold)) & (olympic_data['Country'].isin(china_gold)) ]\n",
    "filter_china.tail(6)\n",
    "filter_china.plot.hist()"
   ]
  },
  {
   "cell_type": "code",
   "execution_count": 85,
   "metadata": {},
   "outputs": [
    {
     "data": {
      "text/html": [
       "<div>\n",
       "<style scoped>\n",
       "    .dataframe tbody tr th:only-of-type {\n",
       "        vertical-align: middle;\n",
       "    }\n",
       "\n",
       "    .dataframe tbody tr th {\n",
       "        vertical-align: top;\n",
       "    }\n",
       "\n",
       "    .dataframe thead th {\n",
       "        text-align: right;\n",
       "    }\n",
       "</style>\n",
       "<table border=\"1\" class=\"dataframe\">\n",
       "  <thead>\n",
       "    <tr style=\"text-align: right;\">\n",
       "      <th></th>\n",
       "      <th>City</th>\n",
       "      <th>Year</th>\n",
       "      <th>Sport</th>\n",
       "      <th>Discipline</th>\n",
       "      <th>Event</th>\n",
       "      <th>Athlete</th>\n",
       "      <th>Gender</th>\n",
       "      <th>Country_Code</th>\n",
       "      <th>Country</th>\n",
       "      <th>Event_gender</th>\n",
       "      <th>Medal</th>\n",
       "    </tr>\n",
       "  </thead>\n",
       "  <tbody>\n",
       "    <tr>\n",
       "      <th>4</th>\n",
       "      <td>Montreal</td>\n",
       "      <td>1976.0</td>\n",
       "      <td>Aquatics</td>\n",
       "      <td>Diving</td>\n",
       "      <td>10m platform</td>\n",
       "      <td>WILSON, Deborah Keplar</td>\n",
       "      <td>Women</td>\n",
       "      <td>USA</td>\n",
       "      <td>United States</td>\n",
       "      <td>W</td>\n",
       "      <td>Bronze</td>\n",
       "    </tr>\n",
       "    <tr>\n",
       "      <th>7</th>\n",
       "      <td>Montreal</td>\n",
       "      <td>1976.0</td>\n",
       "      <td>Aquatics</td>\n",
       "      <td>Diving</td>\n",
       "      <td>3m springboard</td>\n",
       "      <td>POTTER-MCINGVALE, Cynthia</td>\n",
       "      <td>Women</td>\n",
       "      <td>USA</td>\n",
       "      <td>United States</td>\n",
       "      <td>W</td>\n",
       "      <td>Bronze</td>\n",
       "    </tr>\n",
       "    <tr>\n",
       "      <th>11</th>\n",
       "      <td>Montreal</td>\n",
       "      <td>1976.0</td>\n",
       "      <td>Aquatics</td>\n",
       "      <td>Diving</td>\n",
       "      <td>3m springboard</td>\n",
       "      <td>CHANDLER, Jennifer Kay</td>\n",
       "      <td>Women</td>\n",
       "      <td>USA</td>\n",
       "      <td>United States</td>\n",
       "      <td>W</td>\n",
       "      <td>Gold</td>\n",
       "    </tr>\n",
       "    <tr>\n",
       "      <th>12</th>\n",
       "      <td>Montreal</td>\n",
       "      <td>1976.0</td>\n",
       "      <td>Aquatics</td>\n",
       "      <td>Swimming</td>\n",
       "      <td>4x100m freestyle relay</td>\n",
       "      <td>BABASHOFF, Shirley Farber</td>\n",
       "      <td>Women</td>\n",
       "      <td>USA</td>\n",
       "      <td>United States</td>\n",
       "      <td>W</td>\n",
       "      <td>Gold</td>\n",
       "    </tr>\n",
       "    <tr>\n",
       "      <th>18</th>\n",
       "      <td>Montreal</td>\n",
       "      <td>1976.0</td>\n",
       "      <td>Aquatics</td>\n",
       "      <td>Swimming</td>\n",
       "      <td>800m freestyle</td>\n",
       "      <td>BABASHOFF, Shirley Farber</td>\n",
       "      <td>Women</td>\n",
       "      <td>USA</td>\n",
       "      <td>United States</td>\n",
       "      <td>W</td>\n",
       "      <td>Silver</td>\n",
       "    </tr>\n",
       "    <tr>\n",
       "      <th>41</th>\n",
       "      <td>Montreal</td>\n",
       "      <td>1976.0</td>\n",
       "      <td>Aquatics</td>\n",
       "      <td>Swimming</td>\n",
       "      <td>800m freestyle</td>\n",
       "      <td>WEINBERG, Wendy Elizabeth</td>\n",
       "      <td>Women</td>\n",
       "      <td>USA</td>\n",
       "      <td>United States</td>\n",
       "      <td>W</td>\n",
       "      <td>Bronze</td>\n",
       "    </tr>\n",
       "    <tr>\n",
       "      <th>47</th>\n",
       "      <td>Montreal</td>\n",
       "      <td>1976.0</td>\n",
       "      <td>Aquatics</td>\n",
       "      <td>Swimming</td>\n",
       "      <td>4x100m medley relay</td>\n",
       "      <td>WRIGHT, Camille</td>\n",
       "      <td>Women</td>\n",
       "      <td>USA</td>\n",
       "      <td>United States</td>\n",
       "      <td>W</td>\n",
       "      <td>Silver</td>\n",
       "    </tr>\n",
       "    <tr>\n",
       "      <th>51</th>\n",
       "      <td>Montreal</td>\n",
       "      <td>1976.0</td>\n",
       "      <td>Aquatics</td>\n",
       "      <td>Swimming</td>\n",
       "      <td>4x100m freestyle relay</td>\n",
       "      <td>PEYTON, Kim Marie</td>\n",
       "      <td>Women</td>\n",
       "      <td>USA</td>\n",
       "      <td>United States</td>\n",
       "      <td>W</td>\n",
       "      <td>Gold</td>\n",
       "    </tr>\n",
       "    <tr>\n",
       "      <th>61</th>\n",
       "      <td>Montreal</td>\n",
       "      <td>1976.0</td>\n",
       "      <td>Aquatics</td>\n",
       "      <td>Swimming</td>\n",
       "      <td>100m butterfly</td>\n",
       "      <td>BOGLIOLI, Wendy Lansbach</td>\n",
       "      <td>Women</td>\n",
       "      <td>USA</td>\n",
       "      <td>United States</td>\n",
       "      <td>W</td>\n",
       "      <td>Bronze</td>\n",
       "    </tr>\n",
       "    <tr>\n",
       "      <th>88</th>\n",
       "      <td>Montreal</td>\n",
       "      <td>1976.0</td>\n",
       "      <td>Aquatics</td>\n",
       "      <td>Swimming</td>\n",
       "      <td>4x100m freestyle relay</td>\n",
       "      <td>BOGLIOLI, Wendy Lansbach</td>\n",
       "      <td>Women</td>\n",
       "      <td>USA</td>\n",
       "      <td>United States</td>\n",
       "      <td>W</td>\n",
       "      <td>Gold</td>\n",
       "    </tr>\n",
       "  </tbody>\n",
       "</table>\n",
       "</div>"
      ],
      "text/plain": [
       "        City    Year     Sport Discipline                   Event  \\\n",
       "4   Montreal  1976.0  Aquatics     Diving            10m platform   \n",
       "7   Montreal  1976.0  Aquatics     Diving          3m springboard   \n",
       "11  Montreal  1976.0  Aquatics     Diving          3m springboard   \n",
       "12  Montreal  1976.0  Aquatics   Swimming  4x100m freestyle relay   \n",
       "18  Montreal  1976.0  Aquatics   Swimming          800m freestyle   \n",
       "41  Montreal  1976.0  Aquatics   Swimming          800m freestyle   \n",
       "47  Montreal  1976.0  Aquatics   Swimming     4x100m medley relay   \n",
       "51  Montreal  1976.0  Aquatics   Swimming  4x100m freestyle relay   \n",
       "61  Montreal  1976.0  Aquatics   Swimming          100m butterfly   \n",
       "88  Montreal  1976.0  Aquatics   Swimming  4x100m freestyle relay   \n",
       "\n",
       "                      Athlete Gender Country_Code        Country Event_gender  \\\n",
       "4      WILSON, Deborah Keplar  Women          USA  United States            W   \n",
       "7   POTTER-MCINGVALE, Cynthia  Women          USA  United States            W   \n",
       "11     CHANDLER, Jennifer Kay  Women          USA  United States            W   \n",
       "12  BABASHOFF, Shirley Farber  Women          USA  United States            W   \n",
       "18  BABASHOFF, Shirley Farber  Women          USA  United States            W   \n",
       "41  WEINBERG, Wendy Elizabeth  Women          USA  United States            W   \n",
       "47            WRIGHT, Camille  Women          USA  United States            W   \n",
       "51          PEYTON, Kim Marie  Women          USA  United States            W   \n",
       "61   BOGLIOLI, Wendy Lansbach  Women          USA  United States            W   \n",
       "88   BOGLIOLI, Wendy Lansbach  Women          USA  United States            W   \n",
       "\n",
       "     Medal  \n",
       "4   Bronze  \n",
       "7   Bronze  \n",
       "11    Gold  \n",
       "12    Gold  \n",
       "18  Silver  \n",
       "41  Bronze  \n",
       "47  Silver  \n",
       "51    Gold  \n",
       "61  Bronze  \n",
       "88    Gold  "
      ]
     },
     "execution_count": 85,
     "metadata": {},
     "output_type": "execute_result"
    }
   ],
   "source": [
    "us_women = ['Women', 'United States']\n",
    "filter_gender = olympic_data[(olympic_data['Gender'].isin(us_women)) & olympic_data['Country'].isin(us_women)]\n",
    "filter_gender.head(10)"
   ]
  },
  {
   "cell_type": "code",
   "execution_count": 86,
   "metadata": {},
   "outputs": [
    {
     "data": {
      "image/png": "[encoded data removed]",
      "text/plain": [
       "<Figure size 432x288 with 1 Axes>"
      ]
     },
     "metadata": {
      "needs_background": "light"
     },
     "output_type": "display_data"
    },
    {
     "name": "stdout",
     "output_type": "stream",
     "text": [
      "There is increase in women participation with successive event\n"
     ]
    },
    {
     "data": {
      "text/plain": [
       "<Figure size 576x432 with 0 Axes>"
      ]
     },
     "metadata": {},
     "output_type": "display_data"
    }
   ],
   "source": [
    "filter_gender.plot.hist()\n",
    "thinkplot.Show(xlabel='Women participants in each olympic year', ylabel='Total Count')\n",
    "print(\"There is increase in women participation with successive event\")"
   ]
  },
  {
   "cell_type": "code",
   "execution_count": 87,
   "metadata": {},
   "outputs": [
    {
     "name": "stdout",
     "output_type": "stream",
     "text": [
      "There are more men than women participants in the olympics\n"
     ]
    },
    {
     "data": {
      "image/png": "[encoded data removed]",
      "text/plain": [
       "<Figure size 432x288 with 1 Axes>"
      ]
     },
     "metadata": {
      "needs_background": "light"
     },
     "output_type": "display_data"
    }
   ],
   "source": [
    "# Counting number of men and women participants from 1976 till 2008 across all sports,country,event and year.\n",
    "hist = thinkstats2.Hist(olympic_data.Gender, label='Gender')\n",
    "thinkplot.Hist(hist)\n",
    "thinkplot.Config(xlabel='Gender', ylabel='total count')\n",
    "print(\"There are more men than women participants in the olympics\")"
   ]
  },
  {
   "cell_type": "code",
   "execution_count": 127,
   "metadata": {},
   "outputs": [
    {
     "data": {
      "text/html": [
       "<div>\n",
       "<style scoped>\n",
       "    .dataframe tbody tr th:only-of-type {\n",
       "        vertical-align: middle;\n",
       "    }\n",
       "\n",
       "    .dataframe tbody tr th {\n",
       "        vertical-align: top;\n",
       "    }\n",
       "\n",
       "    .dataframe thead th {\n",
       "        text-align: right;\n",
       "    }\n",
       "</style>\n",
       "<table border=\"1\" class=\"dataframe\">\n",
       "  <thead>\n",
       "    <tr style=\"text-align: right;\">\n",
       "      <th></th>\n",
       "      <th>City</th>\n",
       "      <th>Year</th>\n",
       "      <th>Sport</th>\n",
       "      <th>Discipline</th>\n",
       "      <th>Event</th>\n",
       "      <th>Athlete</th>\n",
       "      <th>Gender</th>\n",
       "      <th>Country_Code</th>\n",
       "      <th>Country</th>\n",
       "      <th>Event_gender</th>\n",
       "      <th>Medal</th>\n",
       "    </tr>\n",
       "  </thead>\n",
       "  <tbody>\n",
       "    <tr>\n",
       "      <th>4</th>\n",
       "      <td>Montreal</td>\n",
       "      <td>1976.0</td>\n",
       "      <td>Aquatics</td>\n",
       "      <td>Diving</td>\n",
       "      <td>10m platform</td>\n",
       "      <td>WILSON, Deborah Keplar</td>\n",
       "      <td>Women</td>\n",
       "      <td>USA</td>\n",
       "      <td>United States</td>\n",
       "      <td>W</td>\n",
       "      <td>Bronze</td>\n",
       "    </tr>\n",
       "    <tr>\n",
       "      <th>7</th>\n",
       "      <td>Montreal</td>\n",
       "      <td>1976.0</td>\n",
       "      <td>Aquatics</td>\n",
       "      <td>Diving</td>\n",
       "      <td>3m springboard</td>\n",
       "      <td>POTTER-MCINGVALE, Cynthia</td>\n",
       "      <td>Women</td>\n",
       "      <td>USA</td>\n",
       "      <td>United States</td>\n",
       "      <td>W</td>\n",
       "      <td>Bronze</td>\n",
       "    </tr>\n",
       "    <tr>\n",
       "      <th>11</th>\n",
       "      <td>Montreal</td>\n",
       "      <td>1976.0</td>\n",
       "      <td>Aquatics</td>\n",
       "      <td>Diving</td>\n",
       "      <td>3m springboard</td>\n",
       "      <td>CHANDLER, Jennifer Kay</td>\n",
       "      <td>Women</td>\n",
       "      <td>USA</td>\n",
       "      <td>United States</td>\n",
       "      <td>W</td>\n",
       "      <td>Gold</td>\n",
       "    </tr>\n",
       "    <tr>\n",
       "      <th>12</th>\n",
       "      <td>Montreal</td>\n",
       "      <td>1976.0</td>\n",
       "      <td>Aquatics</td>\n",
       "      <td>Swimming</td>\n",
       "      <td>4x100m freestyle relay</td>\n",
       "      <td>BABASHOFF, Shirley Farber</td>\n",
       "      <td>Women</td>\n",
       "      <td>USA</td>\n",
       "      <td>United States</td>\n",
       "      <td>W</td>\n",
       "      <td>Gold</td>\n",
       "    </tr>\n",
       "    <tr>\n",
       "      <th>18</th>\n",
       "      <td>Montreal</td>\n",
       "      <td>1976.0</td>\n",
       "      <td>Aquatics</td>\n",
       "      <td>Swimming</td>\n",
       "      <td>800m freestyle</td>\n",
       "      <td>BABASHOFF, Shirley Farber</td>\n",
       "      <td>Women</td>\n",
       "      <td>USA</td>\n",
       "      <td>United States</td>\n",
       "      <td>W</td>\n",
       "      <td>Silver</td>\n",
       "    </tr>\n",
       "    <tr>\n",
       "      <th>41</th>\n",
       "      <td>Montreal</td>\n",
       "      <td>1976.0</td>\n",
       "      <td>Aquatics</td>\n",
       "      <td>Swimming</td>\n",
       "      <td>800m freestyle</td>\n",
       "      <td>WEINBERG, Wendy Elizabeth</td>\n",
       "      <td>Women</td>\n",
       "      <td>USA</td>\n",
       "      <td>United States</td>\n",
       "      <td>W</td>\n",
       "      <td>Bronze</td>\n",
       "    </tr>\n",
       "    <tr>\n",
       "      <th>47</th>\n",
       "      <td>Montreal</td>\n",
       "      <td>1976.0</td>\n",
       "      <td>Aquatics</td>\n",
       "      <td>Swimming</td>\n",
       "      <td>4x100m medley relay</td>\n",
       "      <td>WRIGHT, Camille</td>\n",
       "      <td>Women</td>\n",
       "      <td>USA</td>\n",
       "      <td>United States</td>\n",
       "      <td>W</td>\n",
       "      <td>Silver</td>\n",
       "    </tr>\n",
       "    <tr>\n",
       "      <th>51</th>\n",
       "      <td>Montreal</td>\n",
       "      <td>1976.0</td>\n",
       "      <td>Aquatics</td>\n",
       "      <td>Swimming</td>\n",
       "      <td>4x100m freestyle relay</td>\n",
       "      <td>PEYTON, Kim Marie</td>\n",
       "      <td>Women</td>\n",
       "      <td>USA</td>\n",
       "      <td>United States</td>\n",
       "      <td>W</td>\n",
       "      <td>Gold</td>\n",
       "    </tr>\n",
       "    <tr>\n",
       "      <th>61</th>\n",
       "      <td>Montreal</td>\n",
       "      <td>1976.0</td>\n",
       "      <td>Aquatics</td>\n",
       "      <td>Swimming</td>\n",
       "      <td>100m butterfly</td>\n",
       "      <td>BOGLIOLI, Wendy Lansbach</td>\n",
       "      <td>Women</td>\n",
       "      <td>USA</td>\n",
       "      <td>United States</td>\n",
       "      <td>W</td>\n",
       "      <td>Bronze</td>\n",
       "    </tr>\n",
       "    <tr>\n",
       "      <th>88</th>\n",
       "      <td>Montreal</td>\n",
       "      <td>1976.0</td>\n",
       "      <td>Aquatics</td>\n",
       "      <td>Swimming</td>\n",
       "      <td>4x100m freestyle relay</td>\n",
       "      <td>BOGLIOLI, Wendy Lansbach</td>\n",
       "      <td>Women</td>\n",
       "      <td>USA</td>\n",
       "      <td>United States</td>\n",
       "      <td>W</td>\n",
       "      <td>Gold</td>\n",
       "    </tr>\n",
       "  </tbody>\n",
       "</table>\n",
       "</div>"
      ],
      "text/plain": [
       "        City    Year     Sport Discipline                   Event  \\\n",
       "4   Montreal  1976.0  Aquatics     Diving            10m platform   \n",
       "7   Montreal  1976.0  Aquatics     Diving          3m springboard   \n",
       "11  Montreal  1976.0  Aquatics     Diving          3m springboard   \n",
       "12  Montreal  1976.0  Aquatics   Swimming  4x100m freestyle relay   \n",
       "18  Montreal  1976.0  Aquatics   Swimming          800m freestyle   \n",
       "41  Montreal  1976.0  Aquatics   Swimming          800m freestyle   \n",
       "47  Montreal  1976.0  Aquatics   Swimming     4x100m medley relay   \n",
       "51  Montreal  1976.0  Aquatics   Swimming  4x100m freestyle relay   \n",
       "61  Montreal  1976.0  Aquatics   Swimming          100m butterfly   \n",
       "88  Montreal  1976.0  Aquatics   Swimming  4x100m freestyle relay   \n",
       "\n",
       "                      Athlete Gender Country_Code        Country Event_gender  \\\n",
       "4      WILSON, Deborah Keplar  Women          USA  United States            W   \n",
       "7   POTTER-MCINGVALE, Cynthia  Women          USA  United States            W   \n",
       "11     CHANDLER, Jennifer Kay  Women          USA  United States            W   \n",
       "12  BABASHOFF, Shirley Farber  Women          USA  United States            W   \n",
       "18  BABASHOFF, Shirley Farber  Women          USA  United States            W   \n",
       "41  WEINBERG, Wendy Elizabeth  Women          USA  United States            W   \n",
       "47            WRIGHT, Camille  Women          USA  United States            W   \n",
       "51          PEYTON, Kim Marie  Women          USA  United States            W   \n",
       "61   BOGLIOLI, Wendy Lansbach  Women          USA  United States            W   \n",
       "88   BOGLIOLI, Wendy Lansbach  Women          USA  United States            W   \n",
       "\n",
       "     Medal  \n",
       "4   Bronze  \n",
       "7   Bronze  \n",
       "11    Gold  \n",
       "12    Gold  \n",
       "18  Silver  \n",
       "41  Bronze  \n",
       "47  Silver  \n",
       "51    Gold  \n",
       "61  Bronze  \n",
       "88    Gold  "
      ]
     },
     "execution_count": 127,
     "metadata": {},
     "output_type": "execute_result"
    }
   ],
   "source": [
    "us_women = ['Women', 'United States']\n",
    "filter_gender = olympic_data[(olympic_data['Gender'].isin(us_women)) & olympic_data['Country'].isin(us_women)]\n",
    "filter_gender.head(10)"
   ]
  },
  {
   "cell_type": "code",
   "execution_count": null,
   "metadata": {},
   "outputs": [],
   "source": []
  },
  {
   "cell_type": "code",
   "execution_count": 143,
   "metadata": {},
   "outputs": [
    {
     "data": {
      "text/html": [
       "<div>\n",
       "<style scoped>\n",
       "    .dataframe tbody tr th:only-of-type {\n",
       "        vertical-align: middle;\n",
       "    }\n",
       "\n",
       "    .dataframe tbody tr th {\n",
       "        vertical-align: top;\n",
       "    }\n",
       "\n",
       "    .dataframe thead th {\n",
       "        text-align: right;\n",
       "    }\n",
       "</style>\n",
       "<table border=\"1\" class=\"dataframe\">\n",
       "  <thead>\n",
       "    <tr style=\"text-align: right;\">\n",
       "      <th></th>\n",
       "      <th>country</th>\n",
       "      <th>medal_gold</th>\n",
       "      <th>medal_silver</th>\n",
       "      <th>medal_bronze</th>\n",
       "      <th>medal_total</th>\n",
       "    </tr>\n",
       "  </thead>\n",
       "  <tbody>\n",
       "    <tr>\n",
       "      <th>2</th>\n",
       "      <td>United States</td>\n",
       "      <td>928</td>\n",
       "      <td>583</td>\n",
       "      <td>481</td>\n",
       "      <td>1992</td>\n",
       "    </tr>\n",
       "    <tr>\n",
       "      <th>1</th>\n",
       "      <td>Soviet Union</td>\n",
       "      <td>439</td>\n",
       "      <td>285</td>\n",
       "      <td>297</td>\n",
       "      <td>1021</td>\n",
       "    </tr>\n",
       "    <tr>\n",
       "      <th>5</th>\n",
       "      <td>Australia</td>\n",
       "      <td>216</td>\n",
       "      <td>270</td>\n",
       "      <td>312</td>\n",
       "      <td>798</td>\n",
       "    </tr>\n",
       "    <tr>\n",
       "      <th>78</th>\n",
       "      <td>Germany</td>\n",
       "      <td>237</td>\n",
       "      <td>176</td>\n",
       "      <td>278</td>\n",
       "      <td>691</td>\n",
       "    </tr>\n",
       "    <tr>\n",
       "      <th>51</th>\n",
       "      <td>China</td>\n",
       "      <td>234</td>\n",
       "      <td>252</td>\n",
       "      <td>193</td>\n",
       "      <td>679</td>\n",
       "    </tr>\n",
       "    <tr>\n",
       "      <th>...</th>\n",
       "      <td>...</td>\n",
       "      <td>...</td>\n",
       "      <td>...</td>\n",
       "      <td>...</td>\n",
       "      <td>...</td>\n",
       "    </tr>\n",
       "    <tr>\n",
       "      <th>70</th>\n",
       "      <td>Djibouti</td>\n",
       "      <td>0</td>\n",
       "      <td>0</td>\n",
       "      <td>1</td>\n",
       "      <td>1</td>\n",
       "    </tr>\n",
       "    <tr>\n",
       "      <th>74</th>\n",
       "      <td>Virgin Islands*</td>\n",
       "      <td>0</td>\n",
       "      <td>1</td>\n",
       "      <td>0</td>\n",
       "      <td>1</td>\n",
       "    </tr>\n",
       "    <tr>\n",
       "      <th>73</th>\n",
       "      <td>Netherlands Antilles*</td>\n",
       "      <td>0</td>\n",
       "      <td>1</td>\n",
       "      <td>0</td>\n",
       "      <td>1</td>\n",
       "    </tr>\n",
       "    <tr>\n",
       "      <th>127</th>\n",
       "      <td>Afghanistan</td>\n",
       "      <td>0</td>\n",
       "      <td>0</td>\n",
       "      <td>1</td>\n",
       "      <td>1</td>\n",
       "    </tr>\n",
       "    <tr>\n",
       "      <th>35</th>\n",
       "      <td>NaN</td>\n",
       "      <td>0</td>\n",
       "      <td>0</td>\n",
       "      <td>0</td>\n",
       "      <td>0</td>\n",
       "    </tr>\n",
       "  </tbody>\n",
       "</table>\n",
       "<p>128 rows × 5 columns</p>\n",
       "</div>"
      ],
      "text/plain": [
       "                   country  medal_gold  medal_silver  medal_bronze  \\\n",
       "2            United States         928           583           481   \n",
       "1             Soviet Union         439           285           297   \n",
       "5                Australia         216           270           312   \n",
       "78                 Germany         237           176           278   \n",
       "51                   China         234           252           193   \n",
       "..                     ...         ...           ...           ...   \n",
       "70                Djibouti           0             0             1   \n",
       "74         Virgin Islands*           0             1             0   \n",
       "73   Netherlands Antilles*           0             1             0   \n",
       "127            Afghanistan           0             0             1   \n",
       "35                     NaN           0             0             0   \n",
       "\n",
       "     medal_total  \n",
       "2           1992  \n",
       "1           1021  \n",
       "5            798  \n",
       "78           691  \n",
       "51           679  \n",
       "..           ...  \n",
       "70             1  \n",
       "74             1  \n",
       "73             1  \n",
       "127            1  \n",
       "35             0  \n",
       "\n",
       "[128 rows x 5 columns]"
      ]
     },
     "execution_count": 143,
     "metadata": {},
     "output_type": "execute_result"
    }
   ],
   "source": [
    "olympic_data1 = pd.get_dummies(olympic_data, columns = ['Medal'])\n",
    "country_list = list(olympic_data1['Country'].unique())\n",
    "medal_gold = []\n",
    "medal_silver = []\n",
    "medal_bronze = []\n",
    "for i in country_list:\n",
    "    x = olympic_data1[olympic_data1[\"Country\"] == i]\n",
    "    gold = x.Medal_Gold.sum()\n",
    "    medal_gold.append(gold)\n",
    "    silver = x.Medal_Silver.sum()\n",
    "    medal_silver.append(silver)\n",
    "    bronze = x.Medal_Bronze.sum()\n",
    "    medal_bronze.append(bronze)\n",
    "\n",
    "medal = pd.DataFrame({\"country\": country_list,\n",
    "    \"medal_gold\": medal_gold, 'medal_silver': medal_silver,\n",
    "    'medal_bronze': medal_bronze}) \n",
    "medal['medal_total'] = medal.medal_gold + medal.medal_silver + medal.medal_bronze\n",
    "medal = medal.sort_values(by=\"medal_total\", ascending=False)\n",
    "medal"
   ]
  },
  {
   "cell_type": "code",
   "execution_count": 157,
   "metadata": {},
   "outputs": [
    {
     "data": {
      "text/plain": [
       "(39.390625,\n",
       " 4.0,\n",
       " 0    0\n",
       " dtype: int64,\n",
       " 103.56619355200033)"
      ]
     },
     "execution_count": 157,
     "metadata": {},
     "output_type": "execute_result"
    }
   ],
   "source": [
    "# mean, media, mode and standard deviation of gold medal in the olympic\n",
    "mean = medal.medal_gold.mean()\n",
    "median = medal.medal_gold.median()\n",
    "mode = medal.medal_gold.mode()\n",
    "std = medal.medal_gold.std()\n",
    "mean, median, mode, std"
   ]
  },
  {
   "cell_type": "code",
   "execution_count": 158,
   "metadata": {},
   "outputs": [
    {
     "data": {
      "text/plain": [
       "(39.1875,\n",
       " 4.5,\n",
       " 0    1\n",
       " dtype: int64,\n",
       " 78.87154412359976)"
      ]
     },
     "execution_count": 158,
     "metadata": {},
     "output_type": "execute_result"
    }
   ],
   "source": [
    "# mean, media, mode and standard deviation of silver medal in the olympic\n",
    "mean = medal.medal_silver.mean()\n",
    "median = medal.medal_silver.median()\n",
    "mode = medal.medal_silver.mode()\n",
    "std = medal.medal_silver.std()\n",
    "mean, median, mode, std"
   ]
  },
  {
   "cell_type": "code",
   "execution_count": 159,
   "metadata": {},
   "outputs": [
    {
     "data": {
      "text/plain": [
       "(41.078125,\n",
       " 7.0,\n",
       " 0    1\n",
       " dtype: int64,\n",
       " 77.06716667384275)"
      ]
     },
     "execution_count": 159,
     "metadata": {},
     "output_type": "execute_result"
    }
   ],
   "source": [
    "# mean, media, mode and standard deviation\n",
    "mean = medal.medal_bronze.mean()\n",
    "median = medal.medal_bronze.median()\n",
    "mode = medal.medal_bronze.mode()\n",
    "std = medal.medal_bronze.std()\n",
    "mean, median, mode, std"
   ]
  },
  {
   "cell_type": "code",
   "execution_count": 146,
   "metadata": {},
   "outputs": [
    {
     "data": {
      "text/html": [
       "<div>\n",
       "<style scoped>\n",
       "    .dataframe tbody tr th:only-of-type {\n",
       "        vertical-align: middle;\n",
       "    }\n",
       "\n",
       "    .dataframe tbody tr th {\n",
       "        vertical-align: top;\n",
       "    }\n",
       "\n",
       "    .dataframe thead th {\n",
       "        text-align: right;\n",
       "    }\n",
       "</style>\n",
       "<table border=\"1\" class=\"dataframe\">\n",
       "  <thead>\n",
       "    <tr style=\"text-align: right;\">\n",
       "      <th></th>\n",
       "      <th>medal_gold</th>\n",
       "      <th>medal_silver</th>\n",
       "      <th>medal_bronze</th>\n",
       "      <th>medal_total</th>\n",
       "    </tr>\n",
       "  </thead>\n",
       "  <tbody>\n",
       "    <tr>\n",
       "      <th>medal_gold</th>\n",
       "      <td>1.000000</td>\n",
       "      <td>0.936908</td>\n",
       "      <td>0.895386</td>\n",
       "      <td>0.973444</td>\n",
       "    </tr>\n",
       "    <tr>\n",
       "      <th>medal_silver</th>\n",
       "      <td>0.936908</td>\n",
       "      <td>1.000000</td>\n",
       "      <td>0.955832</td>\n",
       "      <td>0.985690</td>\n",
       "    </tr>\n",
       "    <tr>\n",
       "      <th>medal_bronze</th>\n",
       "      <td>0.895386</td>\n",
       "      <td>0.955832</td>\n",
       "      <td>1.000000</td>\n",
       "      <td>0.968391</td>\n",
       "    </tr>\n",
       "    <tr>\n",
       "      <th>medal_total</th>\n",
       "      <td>0.973444</td>\n",
       "      <td>0.985690</td>\n",
       "      <td>0.968391</td>\n",
       "      <td>1.000000</td>\n",
       "    </tr>\n",
       "  </tbody>\n",
       "</table>\n",
       "</div>"
      ],
      "text/plain": [
       "              medal_gold  medal_silver  medal_bronze  medal_total\n",
       "medal_gold      1.000000      0.936908      0.895386     0.973444\n",
       "medal_silver    0.936908      1.000000      0.955832     0.985690\n",
       "medal_bronze    0.895386      0.955832      1.000000     0.968391\n",
       "medal_total     0.973444      0.985690      0.968391     1.000000"
      ]
     },
     "execution_count": 146,
     "metadata": {},
     "output_type": "execute_result"
    }
   ],
   "source": [
    "# correlation of medal\n",
    "correlation = medal.corr()\n",
    "correlation"
   ]
  },
  {
   "cell_type": "code",
   "execution_count": 148,
   "metadata": {},
   "outputs": [
    {
     "data": {
      "image/png": "[encoded data removed]",
      "text/plain": [
       "<Figure size 432x288 with 1 Axes>"
      ]
     },
     "metadata": {
      "needs_background": "light"
     },
     "output_type": "display_data"
    },
    {
     "data": {
      "text/plain": [
       "<Figure size 576x432 with 0 Axes>"
      ]
     },
     "metadata": {},
     "output_type": "display_data"
    }
   ],
   "source": [
    "\n",
    "#Making a CDF of the variable \"medal total\"\n",
    "cdf = thinkstats2.Cdf(medal.medal_total)\n",
    "thinkplot.Cdf(cdf)\n",
    "thinkplot.Show(xlabel = 'Total Medal', ylabel = 'CDF')"
   ]
  },
  {
   "cell_type": "code",
   "execution_count": 160,
   "metadata": {},
   "outputs": [
    {
     "data": {
      "image/png": "[encoded data removed]",
      "text/plain": [
       "<Figure size 432x288 with 1 Axes>"
      ]
     },
     "metadata": {
      "needs_background": "light"
     },
     "output_type": "display_data"
    },
    {
     "data": {
      "text/plain": [
       "<Figure size 576x432 with 0 Axes>"
      ]
     },
     "metadata": {},
     "output_type": "display_data"
    }
   ],
   "source": [
    "# complimentary cdf of total medal\n",
    "thinkplot.Cdf(cdf,complement=True)\n",
    "thinkplot.Show(xlabel='Total Medal',\n",
    "              ylabel='Cumulative Probability',\n",
    "              yscale='log')"
   ]
  },
  {
   "cell_type": "code",
   "execution_count": 150,
   "metadata": {},
   "outputs": [
    {
     "data": {
      "image/png": "[encoded data removed]",
      "text/plain": [
       "<Figure size 432x288 with 1 Axes>"
      ]
     },
     "metadata": {
      "needs_background": "light"
     },
     "output_type": "display_data"
    },
    {
     "data": {
      "text/plain": [
       "<Figure size 576x432 with 0 Axes>"
      ]
     },
     "metadata": {},
     "output_type": "display_data"
    }
   ],
   "source": [
    "# Scatterplot of gold medal with silver medal\n",
    "thinkplot.Scatter(medal.medal_gold, medal.medal_silver)\n",
    "thinkplot.Show(xlabel = 'medal_gold', ylabel = 'medal_silver')"
   ]
  },
  {
   "cell_type": "code",
   "execution_count": 151,
   "metadata": {},
   "outputs": [
    {
     "data": {
      "image/png": "[encoded data removed]",
      "text/plain": [
       "<Figure size 432x288 with 1 Axes>"
      ]
     },
     "metadata": {
      "needs_background": "light"
     },
     "output_type": "display_data"
    },
    {
     "data": {
      "text/plain": [
       "<Figure size 576x432 with 0 Axes>"
      ]
     },
     "metadata": {},
     "output_type": "display_data"
    }
   ],
   "source": [
    "thinkplot.Scatter(medal.medal_gold, medal.medal_bronze)\n",
    "thinkplot.Show(xlabel = 'medal_gold', ylabel = 'medal_bronze')"
   ]
  },
  {
   "cell_type": "code",
   "execution_count": 152,
   "metadata": {},
   "outputs": [
    {
     "data": {
      "image/png": "[encoded data removed]",
      "text/plain": [
       "<Figure size 432x288 with 1 Axes>"
      ]
     },
     "metadata": {
      "needs_background": "light"
     },
     "output_type": "display_data"
    },
    {
     "data": {
      "text/plain": [
       "<Figure size 576x432 with 0 Axes>"
      ]
     },
     "metadata": {},
     "output_type": "display_data"
    }
   ],
   "source": [
    "thinkplot.Scatter(medal.medal_bronze, medal.medal_total)\n",
    "thinkplot.Show(xlabel = 'medal_bronze', ylabel = 'medal_total')"
   ]
  },
  {
   "cell_type": "code",
   "execution_count": null,
   "metadata": {},
   "outputs": [],
   "source": []
  }
 ],
 "metadata": {
  "kernelspec": {
   "display_name": "Python 3",
   "language": "python",
   "name": "python3"
  },
  "language_info": {
   "codemirror_mode": {
    "name": "ipython",
    "version": 3
   },
   "file_extension": ".py",
   "mimetype": "text/x-python",
   "name": "python",
   "nbconvert_exporter": "python",
   "pygments_lexer": "ipython3",
   "version": "3.8.5"
  }
 },
 "nbformat": 4,
 "nbformat_minor": 4
}
